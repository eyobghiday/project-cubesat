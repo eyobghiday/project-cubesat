{
 "cells": [
  {
   "cell_type": "code",
   "execution_count": 45,
   "metadata": {},
   "outputs": [
    {
     "name": "stdout",
     "output_type": "stream",
     "text": [
      "6798.137 6828.137\n",
      "Semi Major axis is: 6813.137\n",
      "Transfer time in min: 6.171772606317552\n",
      "V0: 7.657270043603718\n",
      "V1: 7.640430093070258\n",
      "Perigee speed Vp: 7.665694643086813 7.665694643086813\n",
      "Apogee speed Va: 7.632014762426451 7.632014762426451\n",
      "delta V at parking is Vp: 0.00842459948309493\n",
      "delta V at operational is Vo: 0.008415330643807728\n",
      "Total delta V is Vt: 0.016839930126902658\n",
      "tranfer time in min 46.63912409927324\n"
     ]
    }
   ],
   "source": [
    "import numpy as np\n",
    "import sympy as sp\n",
    "import math\n",
    "\n",
    "#all altitude are in km unless specified\n",
    "#time is seconds\n",
    "mu_e = 398600.5\n",
    "r_e = 6378.137\n",
    "r1 = 450 + r_e # cu alt\n",
    "r0 = 420 + r_e # (km) the iss station altitude currently sitting st https://spotthestation.nasa.gov/tracking_map.cfm\n",
    "a=0.5*(r0+r1) #semi major axis\n",
    "print(r0, r1)\n",
    "print(\"Semi Major axis is:\", a)\n",
    "Tt=4*(a**3/mu_e)**(1./3.)\n",
    "print(\"Transfer time in min:\", Tt/60)\n",
    "V0 = (mu_e/r0)**.5 #iss speed should be around 7.64\n",
    "print(\"V0:\",V0)\n",
    "V1 = (mu_e/r1)**.5 #iss speed should be around 7.64\n",
    "print(\"V1:\",V1)\n",
    "#perigee\n",
    "Vp=((2*mu_e/(r0+r1))*(r1/r0))**.5\n",
    "Vp2=(mu_e*(2/r0-1/a))**.5\n",
    "print(\"Perigee speed Vp:\", Vp, Vp2)\n",
    "#apogee\n",
    "Va=((2*mu_e/(r0+r1))*(r0/r1))**.5\n",
    "Va2=(mu_e*(2/r1-1/a))**.5\n",
    "print(\"Apogee speed Va:\", Va, Va2)\n",
    "delta_Vp=np.abs(Vp-V0) #parking\n",
    "print(\"delta V at parking is Vp:\", delta_Vp)\n",
    "delta_Vo=np.abs(V1-Va) #operational\n",
    "print(\"delta V at operational is Vo:\", delta_Vo)\n",
    "delta_Vt=delta_Vo+delta_Vp\n",
    "print(\"Total delta V is Vt:\", delta_Vt)\n",
    "trans_time=np.pi*(a**3/mu_e)**.5\n",
    "print(\"tranfer time in min\",trans_time/60)"
   ]
  },
  {
   "cell_type": "code",
   "execution_count": null,
   "metadata": {},
   "outputs": [],
   "source": []
  }
 ],
 "metadata": {
  "kernelspec": {
   "display_name": "Python 3 (ipykernel)",
   "language": "python",
   "name": "python3"
  },
  "language_info": {
   "codemirror_mode": {
    "name": "ipython",
    "version": 3
   },
   "file_extension": ".py",
   "mimetype": "text/x-python",
   "name": "python",
   "nbconvert_exporter": "python",
   "pygments_lexer": "ipython3",
   "version": "3.8.12"
  }
 },
 "nbformat": 4,
 "nbformat_minor": 4
}
