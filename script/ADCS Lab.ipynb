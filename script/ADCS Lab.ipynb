{
 "cells": [
  {
   "cell_type": "code",
   "execution_count": 1,
   "metadata": {},
   "outputs": [],
   "source": [
    "import numpy as np\n",
    "import sympy as sp\n",
    "import math"
   ]
  },
  {
   "cell_type": "code",
   "execution_count": 10,
   "metadata": {},
   "outputs": [
    {
     "name": "stdout",
     "output_type": "stream",
     "text": [
      "The maximum gravity gradient torque per degree is 8.430284080935223e-05\n",
      "The magnitude of the maximum drag torque is 5.024119377645367e-13\n",
      "The magnitude of the maximum magnetic torque is 4.7677591665594805e-05\n"
     ]
    }
   ],
   "source": [
    "Imax = 55\n",
    "Imin = 30\n",
    "MomentArm = 0.3\n",
    "ResidualDipole = 2\n",
    "FrontalSA = 1\n",
    "mu_e = 398600.5\n",
    "r_e = 6378.137\n",
    "Altitude = 700\n",
    "R = Altitude + r_e\n",
    "magLat = 10\n",
    "VrelativeX = -1.006320\n",
    "VrelativeY = -1.225255\n",
    "VrelativeZ = 7.427699\n",
    "Vrelative = np.sqrt(VrelativeX**2 + VrelativeY**2 + VrelativeZ**2)\n",
    "\n",
    "Tg = 3 * mu_e * (Imax - Imin) / (R**3)\n",
    "print(f'The maximum gravity gradient torque per degree is {Tg}')\n",
    "\n",
    "AD = 1.47e-13\n",
    "Cd = 3\n",
    "F = 0.5 * AD * Cd * FrontalSA * Vrelative\n",
    "Ta = MomentArm * F\n",
    "print(f'The magnitude of the maximum drag torque is {Ta}')\n",
    "\n",
    "B0 = 3.12e-5\n",
    "B = B0 * ((r_e / R)**3) * np.sqrt(1 + (3 * (np.sin(np.radians(magLat))**2)))\n",
    "Tm = ResidualDipole * B\n",
    "print(f'The magnitude of the maximum magnetic torque is {Tm}')\n",
    "\n",
    "Fs = 1378\n",
    "c = 3e8\n",
    "As = \n",
    "q = 0.6\n",
    "i = \n",
    "F2 = (Fs * As * (1 + q) * np.cos(np.radians(i))) / c\n",
    "Ts = MomentArm * F2\n",
    "print(f'The magnitude of the maximum solar pressure torque is {Ts}')"
   ]
  },
  {
   "cell_type": "code",
   "execution_count": null,
   "metadata": {},
   "outputs": [],
   "source": []
  }
 ],
 "metadata": {
  "kernelspec": {
   "display_name": "Python 3 (ipykernel)",
   "language": "python",
   "name": "python3"
  },
  "language_info": {
   "codemirror_mode": {
    "name": "ipython",
    "version": 3
   },
   "file_extension": ".py",
   "mimetype": "text/x-python",
   "name": "python",
   "nbconvert_exporter": "python",
   "pygments_lexer": "ipython3",
   "version": "3.8.2"
  }
 },
 "nbformat": 4,
 "nbformat_minor": 4
}
