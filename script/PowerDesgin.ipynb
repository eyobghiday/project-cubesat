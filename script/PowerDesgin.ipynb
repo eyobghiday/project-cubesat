{
 "cells": [
  {
   "cell_type": "markdown",
   "metadata": {},
   "source": [
    "## Power Design\n",
    "\n",
    "We need to get values like Sunlight (Td), Penumbra, Umbra, Temperature, Solar Flux, and Solar intensity. \n",
    "$r_0=410km$ and mission orbit of the Cubesat has a semi major axis of $r_1=450km$"
   ]
  },
  {
   "cell_type": "code",
   "execution_count": 2,
   "metadata": {},
   "outputs": [],
   "source": [
    "import numpy as np\n",
    "# values are in watts\n",
    "pload=2.9\n",
    "adcs=7.3\n",
    "cdh=1.8\n",
    "power=2.9\n",
    "prop=1.5\n",
    "stru=0\n",
    "thermal=0\n",
    "ttc=0\n",
    "coms=6.6\n",
    "margin=30/100\n",
    "# values in sec\n",
    "sunlight=Td=4093.784\n",
    "penumbra=12.287\n",
    "umbra=1818.458\n",
    "Te=penumbra+umbra\n",
    "# given constants\n",
    "Id=.77\n",
    "etha=28/100\n",
    "Xd=.8\n",
    "Xe=.6\n",
    "deg_yr=1/100\n",
    "bat_den=50 #Whr/kg\n",
    "life=3 #years"
   ]
  },
  {
   "cell_type": "code",
   "execution_count": 6,
   "metadata": {},
   "outputs": [
    {
     "name": "stdout",
     "output_type": "stream",
     "text": [
      "Total Average required power with margin: Preq = 29.9\n"
     ]
    }
   ],
   "source": [
    "Pavg=pload+adcs+cdh+power+prop+stru+thermal+ttc+coms\n",
    "Preq=Pavg+(Pavg*margin)\n",
    "print(\"Total Average required power with margin: Preq =\", round(Preq,4))\n",
    "Psa="
   ]
  },
  {
   "cell_type": "code",
   "execution_count": 3,
   "metadata": {},
   "outputs": [
    {
     "name": "stdout",
     "output_type": "stream",
     "text": [
      "Dry mass is: 2.0167\n",
      "str_m= 0.222\n",
      "the_m= 0.04\n",
      "pow_m= 0.343\n",
      "tt_m= 0.302\n",
      "adcs_m= 0.161\n",
      "pro_m= 0.343\n",
      "mar_m= 0.202\n",
      "Total Mass inlcuding the 10% margin (kg): 2.2183\n"
     ]
    }
   ],
   "source": [
    "import numpy as np\n",
    "pay_m=0.605 #initial mass of payload in kg based on assumptions\n",
    "dry_m=pay_m/(.3)\n",
    "print(\"Dry mass is:\", round(dry_m,4))\n",
    "str_m=.11*dry_m\n",
    "print(\"str_m=\",round(str_m,3))\n",
    "the_m=.02*dry_m\n",
    "print(\"the_m=\",round(the_m,3))\n",
    "pow_m=.17*dry_m\n",
    "print(\"pow_m=\",round(pow_m,3))\n",
    "tt_m=.15*dry_m\n",
    "print(\"tt_m=\",round(tt_m,3))\n",
    "adcs_m=.08*dry_m\n",
    "print(\"adcs_m=\",round(adcs_m,3))\n",
    "pro_m=.17*dry_m #we add three more to make it to 100%\n",
    "print(\"pro_m=\",round(pro_m,3))\n",
    "mar_m=.1*dry_m\n",
    "print(\"mar_m=\",round(mar_m,3))\n",
    "Tot_m=pay_m+str_m+the_m+pow_m+tt_m+adcs_m+pro_m+mar_m\n",
    "print(\"Total Mass inlcuding the 10% margin (kg):\", round(Tot_m,4))"
   ]
  },
  {
   "cell_type": "code",
   "execution_count": null,
   "metadata": {},
   "outputs": [],
   "source": []
  }
 ],
 "metadata": {
  "kernelspec": {
   "display_name": "Python 3 (ipykernel)",
   "language": "python",
   "name": "python3"
  },
  "language_info": {
   "codemirror_mode": {
    "name": "ipython",
    "version": 3
   },
   "file_extension": ".py",
   "mimetype": "text/x-python",
   "name": "python",
   "nbconvert_exporter": "python",
   "pygments_lexer": "ipython3",
   "version": "3.8.2"
  }
 },
 "nbformat": 4,
 "nbformat_minor": 4
}
