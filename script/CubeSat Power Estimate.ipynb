{
 "cells": [
  {
   "cell_type": "code",
   "execution_count": 38,
   "metadata": {},
   "outputs": [
    {
     "name": "stdout",
     "output_type": "stream",
     "text": [
      "The total average power is 37W\n",
      "The total average power with a 30% margin is 48.1W\n"
     ]
    }
   ],
   "source": [
    "import numpy as np\n",
    "import sympy as sp\n",
    "import math\n",
    "\n",
    "#Average Power Calc\n",
    "#Payload = 2.9\n",
    "#Payload = 24\n",
    "#ADCS = 7.3\n",
    "#CDH = 1.8\n",
    "#Power = 2.9\n",
    "#Propulsion = 12\n",
    "#TTC = 6.6\n",
    "#Total = Payload + ADCS + CDH + Power + Propulsion + TTC\n",
    "coms = 1\n",
    "Total = 37\n",
    "TotalwMargin = Total * 1.3\n",
    "print(f'The total average power is {Total}W')\n",
    "print(f'The total average power with a 30% margin is {TotalwMargin}W')"
   ]
  },
  {
   "cell_type": "code",
   "execution_count": 39,
   "metadata": {},
   "outputs": [
    {
     "name": "stdout",
     "output_type": "stream",
     "text": [
      "The maximum daylight time is 4259.435 sec\n",
      "The maximum eclipse time is 1980.22 sec\n"
     ]
    }
   ],
   "source": [
    "DayLight = 4259.435\n",
    "Penumbra = 13.285\n",
    "Umbra = 1966.935\n",
    "EclipseTime = Umbra + Penumbra\n",
    "print(f'The maximum daylight time is {DayLight} sec')\n",
    "print(f'The maximum eclipse time is {EclipseTime} sec')"
   ]
  },
  {
   "cell_type": "code",
   "execution_count": 40,
   "metadata": {},
   "outputs": [
    {
     "name": "stdout",
     "output_type": "stream",
     "text": [
      "The power output of the array in daylight is estimated as 97.39464648284729W\n"
     ]
    }
   ],
   "source": [
    "#Assuming that the power requirements in daylight and eclipse are equal and using the 30% margin value of 29.9W\n",
    "Psa = ((TotalwMargin*EclipseTime/0.6) + (TotalwMargin*DayLight/0.8))/DayLight\n",
    "print(f'The power output of the array in daylight is estimated as {Psa}W')"
   ]
  },
  {
   "cell_type": "code",
   "execution_count": 41,
   "metadata": {},
   "outputs": [
    {
     "name": "stdout",
     "output_type": "stream",
     "text": [
      "The power density at the beginning of life is 274.51624909187757W/m2\n",
      "The power density at the end of life is 248.26757497734604W/m2\n"
     ]
    }
   ],
   "source": [
    "eff = 0.28\n",
    "fluxvector = np.array([1388.399281, 1388.405363, 1388.411103, 1388.416478, 1388.421466, 1388.426044, 1388.430193, 1388.433896, 1388.437137, 1388.439899])\n",
    "flux = np.mean(fluxvector)\n",
    "Id = 0.77\n",
    "Incidence = 23.5 # estimated VERIFY!!\n",
    "PowerDensityBOL = flux * eff * Id * np.cos(math.radians(23.5))\n",
    "print(f'The power density at the beginning of life is {PowerDensityBOL}W/m2')\n",
    "DegPerYear = 0.01\n",
    "Lifetime = 10\n",
    "PowerDensityEOL = PowerDensityBOL * ((1 - DegPerYear)**Lifetime)\n",
    "print(f'The power density at the end of life is {PowerDensityEOL}W/m2')"
   ]
  },
  {
   "cell_type": "code",
   "execution_count": 42,
   "metadata": {},
   "outputs": [
    {
     "name": "stdout",
     "output_type": "stream",
     "text": [
      "Solar array size for the needed power output is 0.39229708709135447m2\n"
     ]
    }
   ],
   "source": [
    "Asa = Psa / PowerDensityEOL\n",
    "print(f'Solar array size for the needed power output is {Asa}m2')"
   ]
  },
  {
   "cell_type": "code",
   "execution_count": 43,
   "metadata": {},
   "outputs": [
    {
     "name": "stdout",
     "output_type": "stream",
     "text": [
      "The orbit time is 1.7332375000000002hrs\n",
      "The number of orbits per hour is 0.57695497587607\n",
      "The number of cycles is 50575.873185296296\n"
     ]
    }
   ],
   "source": [
    "#orbitTime = 1 + 38/60 + 53/3600 + 565/3600000 # in hours\n",
    "orbitTime = (DayLight + EclipseTime)/3600\n",
    "print(f'The orbit time is {orbitTime}hrs')\n",
    "orbitsPerHr = 1/orbitTime\n",
    "print(f'The number of orbits per hour is {orbitsPerHr}')\n",
    "Ncycles = Lifetime * 365.25 * 24 * orbitsPerHr\n",
    "print(f'The number of cycles is {Ncycles}')"
   ]
  },
  {
   "cell_type": "code",
   "execution_count": 44,
   "metadata": {},
   "outputs": [
    {
     "name": "stdout",
     "output_type": "stream",
     "text": [
      "Estimating the DOD from SMAD Fig 11-11, it appears to be approximately 50% for a number of cycles of 50575.873185296296\n"
     ]
    }
   ],
   "source": [
    "print(f'Estimating the DOD from SMAD Fig 11-11, it appears to be approximately 50% for a number of cycles of {Ncycles}')\n",
    "DOD = 0.33"
   ]
  },
  {
   "cell_type": "code",
   "execution_count": 45,
   "metadata": {},
   "outputs": [
    {
     "name": "stdout",
     "output_type": "stream",
     "text": [
      "The capacity of one battery is 89.08397119341562Whrs\n"
     ]
    }
   ],
   "source": [
    "Cr = (TotalwMargin * EclipseTime / 3600) / (DOD * 1 * 0.9)\n",
    "print(f'The capacity of one battery is {Cr}Whrs')"
   ]
  },
  {
   "cell_type": "code",
   "execution_count": 46,
   "metadata": {},
   "outputs": [
    {
     "name": "stdout",
     "output_type": "stream",
     "text": [
      "The mass of the battery is estimated to be 1.7816794238683125kg\n"
     ]
    }
   ],
   "source": [
    "EnergyDensity = 50 # Whrs/kg\n",
    "BatteryMass = Cr / EnergyDensity\n",
    "print(f'The mass of the battery is estimated to be {BatteryMass}kg')"
   ]
  },
  {
   "cell_type": "code",
   "execution_count": null,
   "metadata": {},
   "outputs": [],
   "source": []
  }
 ],
 "metadata": {
  "kernelspec": {
   "display_name": "Python 3",
   "language": "python",
   "name": "python3"
  },
  "language_info": {
   "codemirror_mode": {
    "name": "ipython",
    "version": 3
   },
   "file_extension": ".py",
   "mimetype": "text/x-python",
   "name": "python",
   "nbconvert_exporter": "python",
   "pygments_lexer": "ipython3",
   "version": "3.7.4"
  }
 },
 "nbformat": 4,
 "nbformat_minor": 2
}
