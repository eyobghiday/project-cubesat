{
 "cells": [
  {
   "cell_type": "code",
   "execution_count": 6,
   "metadata": {},
   "outputs": [],
   "source": [
    "import numpy as np\n",
    "import sympy as sp\n",
    "import math\n",
    "\n",
    "def deltaV_design(phi, alpha, altitude, launchsite, losses):\n",
    "    mu_e = 398600.5\n",
    "    r_e = 6378.137\n",
    "    V_bo = np.sqrt(mu_e/(r_e+altitude))\n",
    "    beta = np.degrees(np.arcsin(np.cos(np.radians(alpha))/np.cos(np.radians(launchsite))))\n",
    "    V_ls = 465.1*np.cos(np.radians(launchsite))/1000\n",
    "    dV_gl = np.sqrt((2*mu_e*altitude)/(r_e*(r_e+altitude)))\n",
    "    dV_needed = np.array([-V_bo*np.cos(np.radians(phi))*np.cos(np.radians(beta)), V_bo*np.cos(np.radians(phi))*np.sin(np.radians(beta)), V_bo*np.sin(np.radians(phi))]) + np.array([0, -V_ls, dV_gl])\n",
    "    dV_design = np.linalg.norm(dV_needed) + losses\n",
    "    return dV_design"
   ]
  },
  {
   "cell_type": "code",
   "execution_count": null,
   "metadata": {},
   "outputs": [],
   "source": []
  }
 ],
 "metadata": {
  "kernelspec": {
   "display_name": "Python 3",
   "language": "python",
   "name": "python3"
  },
  "language_info": {
   "codemirror_mode": {
    "name": "ipython",
    "version": 3
   },
   "file_extension": ".py",
   "mimetype": "text/x-python",
   "name": "python",
   "nbconvert_exporter": "python",
   "pygments_lexer": "ipython3",
   "version": "3.7.4"
  }
 },
 "nbformat": 4,
 "nbformat_minor": 2
}
