{
 "cells": [
  {
   "cell_type": "markdown",
   "metadata": {},
   "source": [
    "## Sizing and Mass Budget Lab\n",
    "I'm assuming the ISS is sitting at an altitude of $r_0=410km$ and mission orbit of the Cubesat has a semi major axis of $r_1=450km$"
   ]
  },
  {
   "cell_type": "code",
   "execution_count": 2,
   "metadata": {},
   "outputs": [
    {
     "name": "stdout",
     "output_type": "stream",
     "text": [
      "Semi Major axis (km): 6808.137\n",
      "Tranfer time (min): 46.588\n",
      "V0: 7.663\n",
      "V1: 7.64043\n",
      "7.674155413095393\n",
      "Perigee speed Vp: 7.6742\n",
      "Apogee speed Va: 7.629\n",
      "delta V at parking is Vp: 11.24726\n",
      "delta V at operational is Vo: 10.800659\n",
      "Total delta V in m/s: 22.0479\n"
     ]
    }
   ],
   "source": [
    "import numpy as np\n",
    "mu_e = 398600.5\n",
    "r_e = 6378.137\n",
    "r1 = 450 + r_e # cu alt\n",
    "r0 = 410 + r_e # (km) the iss station altitude currently sitting st https://spotthestation.nasa.gov/tracking_map.cfm\n",
    "a=0.5*(r0+r1) #semi major axis\n",
    "# print(r0, r1)\n",
    "print(\"Semi Major axis (km):\", round(a,3))\n",
    "trans_time=np.pi*((a**3/mu_e)**.5)\n",
    "print(\"Tranfer time (min):\",round(trans_time/60,3))\n",
    "V0 = (mu_e/r0)**.5 #iss speed usually around 7.6\n",
    "print(\"V0:\",round(V0,3))\n",
    "V1 = (mu_e/r1)**.5 \n",
    "print(\"V1:\",round(V1,6))\n",
    "Vp=((2*mu_e/(r0+r1))*(r1/r0))**.5\n",
    "print(Vp)\n",
    "Vp=(mu_e*(2/r0-1/a))**.5\n",
    "print(\"Perigee speed Vp:\", round(Vp,4)) #perigee\n",
    "# Va=((2*mu_e/(r0+r1))*(r0/r1))**.5\n",
    "Va=(mu_e*(2/r1-1/a))**.5\n",
    "print(\"Apogee speed Va:\", round(Va,3)) #apogee\n",
    "delta_Vp=np.abs(Vp-V0) #parking\n",
    "print(\"delta V at parking is Vp:\", round(delta_Vp*1000,6))\n",
    "delta_Vo=np.abs(round(V1,2)-Va) #operational\n",
    "print(\"delta V at operational is Vo:\", round(delta_Vo*1000,6))\n",
    "delta_Vt=delta_Vo+delta_Vp\n",
    "print(\"Total delta V in m/s:\", round(delta_Vt*1000,4))"
   ]
  },
  {
   "cell_type": "code",
   "execution_count": 3,
   "metadata": {},
   "outputs": [
    {
     "name": "stdout",
     "output_type": "stream",
     "text": [
      "Delta-V budget (m/s): 42.05\n",
      "Dry mass is: 13.3333\n",
      "str_m= 1.467\n",
      "the_m= 0.267\n",
      "pow_m= 2.267\n",
      "tt_m= 2.0\n",
      "adcs_m= 1.067\n",
      "pro_m= 2.267\n",
      "mar_m= 1.333\n",
      "Total Mass inlcuding the 10% margin (kg): 14.6667\n"
     ]
    }
   ],
   "source": [
    "ballistic_coef=65 #kg/m^2 given\n",
    "V_station = 20 #estimated in m/s\n",
    "V_budget = delta_Vt*1000+V_station #total delta v buudget\n",
    "print(\"Delta-V budget (m/s):\",round(V_budget,2))\n",
    "pay_m=4.0 #initial mass of payload in kg given\n",
    "dry_m=4.0/(.3)\n",
    "print(\"Dry mass is:\", round(dry_m,4))\n",
    "str_m=.11*dry_m\n",
    "print(\"str_m=\",round(str_m,3))\n",
    "the_m=.02*dry_m\n",
    "print(\"the_m=\",round(the_m,3))\n",
    "pow_m=.17*dry_m\n",
    "print(\"pow_m=\",round(pow_m,3))\n",
    "tt_m=.15*dry_m\n",
    "print(\"tt_m=\",round(tt_m,3))\n",
    "adcs_m=.08*dry_m\n",
    "print(\"adcs_m=\",round(adcs_m,3))\n",
    "pro_m=.17*dry_m #we add three more to make it to 100%\n",
    "print(\"pro_m=\",round(pro_m,3))\n",
    "mar_m=.1*dry_m\n",
    "print(\"mar_m=\",round(mar_m,3))\n",
    "Tot_m=pay_m+str_m+the_m+pow_m+tt_m+adcs_m+pro_m+mar_m\n",
    "print(\"Total Mass inlcuding the 10% margin (kg):\", round(Tot_m,4))"
   ]
  }
 ],
 "metadata": {
  "kernelspec": {
   "display_name": "Python 3 (ipykernel)",
   "language": "python",
   "name": "python3"
  },
  "language_info": {
   "codemirror_mode": {
    "name": "ipython",
    "version": 3
   },
   "file_extension": ".py",
   "mimetype": "text/x-python",
   "name": "python",
   "nbconvert_exporter": "python",
   "pygments_lexer": "ipython3",
   "version": "3.8.12"
  }
 },
 "nbformat": 4,
 "nbformat_minor": 4
}
